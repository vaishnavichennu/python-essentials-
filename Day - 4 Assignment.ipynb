{
 "cells": [
  {
   "cell_type": "markdown",
   "metadata": {},
   "source": [
    "# Day - 4 Assignment."
   ]
  },
  {
   "cell_type": "markdown",
   "metadata": {},
   "source": [
    "# 1. Find all the occurrences of substring in the given string."
   ]
  },
  {
   "cell_type": "code",
   "execution_count": 19,
   "metadata": {},
   "outputs": [
    {
     "name": "stdout",
     "output_type": "stream",
     "text": [
      "11\n",
      "34\n",
      "3\n",
      "12\n",
      "48\n"
     ]
    }
   ],
   "source": [
    "str=\"Hi my name is Vaishnavi Priya. It is raining outside\"\n",
    "print(str.find(\"is\"))\n",
    "print(str.rfind(\"is\"))\n",
    "print(str.find(\"m\"))\n",
    "print(str.find(\"s\"))\n",
    "print(str.rfind(\"s\"))\n"
   ]
  },
  {
   "cell_type": "markdown",
   "metadata": {},
   "source": [
    "# 2. use islower() and isupper()."
   ]
  },
  {
   "cell_type": "markdown",
   "metadata": {},
   "source": [
    "### The two methods are a part of boolean methods, which are used to check if there are any lower case letters and upper case letters in a string. For example:"
   ]
  },
  {
   "cell_type": "code",
   "execution_count": 31,
   "metadata": {},
   "outputs": [
    {
     "name": "stdout",
     "output_type": "stream",
     "text": [
      "True\n"
     ]
    }
   ],
   "source": [
    "str1=\"my name is vaishnavi priya\"\n",
    "print(str1.islower())"
   ]
  },
  {
   "cell_type": "code",
   "execution_count": 33,
   "metadata": {},
   "outputs": [
    {
     "name": "stdout",
     "output_type": "stream",
     "text": [
      "True\n",
      "False\n"
     ]
    }
   ],
   "source": [
    "str2=\"PYTHON IS A PROGRAMMING LANGUAGE\"\n",
    "print(str2.isupper())\n",
    "print(str2.islower())"
   ]
  },
  {
   "cell_type": "code",
   "execution_count": 35,
   "metadata": {},
   "outputs": [
    {
     "name": "stdout",
     "output_type": "stream",
     "text": [
      "False\n",
      "False\n"
     ]
    }
   ],
   "source": [
    "str3=\"Python is a PL\"\n",
    "print(str3.isupper())\n",
    "print(str3.islower())"
   ]
  },
  {
   "cell_type": "code",
   "execution_count": null,
   "metadata": {},
   "outputs": [],
   "source": []
  }
 ],
 "metadata": {
  "kernelspec": {
   "display_name": "Python 3",
   "language": "python",
   "name": "python3"
  },
  "language_info": {
   "codemirror_mode": {
    "name": "ipython",
    "version": 3
   },
   "file_extension": ".py",
   "mimetype": "text/x-python",
   "name": "python",
   "nbconvert_exporter": "python",
   "pygments_lexer": "ipython3",
   "version": "3.7.6"
  }
 },
 "nbformat": 4,
 "nbformat_minor": 4
}
