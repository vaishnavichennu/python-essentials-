{
 "cells": [
  {
   "cell_type": "markdown",
   "metadata": {},
   "source": [
    "# Day - 3 Assignment."
   ]
  },
  {
   "cell_type": "markdown",
   "metadata": {},
   "source": [
    "# 1. sum of n numbers with the help of while loop."
   ]
  },
  {
   "cell_type": "code",
   "execution_count": 1,
   "metadata": {},
   "outputs": [
    {
     "name": "stdout",
     "output_type": "stream",
     "text": [
      "enter n value 10\n",
      "1\n",
      "2\n",
      "3\n",
      "4\n",
      "5\n",
      "6\n",
      "7\n",
      "8\n",
      "9\n",
      "sum=  45\n"
     ]
    }
   ],
   "source": [
    "n=int(input(\"enter n value \"))\n",
    "i=1\n",
    "sum=0\n",
    "while i<n:\n",
    "    print(i)\n",
    "    sum=sum+i\n",
    "    i=i+1\n",
    "print(\"sum= \",sum)"
   ]
  },
  {
   "cell_type": "markdown",
   "metadata": {},
   "source": [
    "# 2. take an integer, find if its prime or not."
   ]
  },
  {
   "cell_type": "code",
   "execution_count": 15,
   "metadata": {},
   "outputs": [
    {
     "name": "stdout",
     "output_type": "stream",
     "text": [
      "enter n value: 6\n",
      "6 is not a prime\n"
     ]
    }
   ],
   "source": [
    "n=int(input(\"enter n value: \"))\n",
    "count=0\n",
    "for i in range(2,(n//2+1)):\n",
    "    if(n%i==0):\n",
    "        count=count+1\n",
    "        break\n",
    "if(count==0 and n!=1):\n",
    "    print(n, \"is a prime\")\n",
    "else:\n",
    "    print(n, \"is not a prime\")\n",
    "    "
   ]
  },
  {
   "cell_type": "code",
   "execution_count": null,
   "metadata": {},
   "outputs": [],
   "source": []
  }
 ],
 "metadata": {
  "kernelspec": {
   "display_name": "Python 3",
   "language": "python",
   "name": "python3"
  },
  "language_info": {
   "codemirror_mode": {
    "name": "ipython",
    "version": 3
   },
   "file_extension": ".py",
   "mimetype": "text/x-python",
   "name": "python",
   "nbconvert_exporter": "python",
   "pygments_lexer": "ipython3",
   "version": "3.7.6"
  }
 },
 "nbformat": 4,
 "nbformat_minor": 4
}
